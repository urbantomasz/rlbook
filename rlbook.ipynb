{
 "cells": [
  {
   "cell_type": "code",
   "execution_count": 146,
   "metadata": {},
   "outputs": [],
   "source": [
    "import random\n",
    "import numpy as np\n",
    "import pandas as pd\n",
    "import scipy.stats as stats\n",
    "from plotnine import *\n",
    "from abc import ABC, abstractmethod\n",
    "\n",
    "def reward_estimation(reward, last_reward, n):\n",
    "    if(n == 0):\n",
    "        return reward\n",
    "    else:\n",
    "        reward + 1/n*abs(last_reward - reward) \n",
    "\n",
    "\n",
    "class State:\n",
    "    def __init__(self, number_of_choices):\n",
    "        self.choices = np.array(range(number_of_choices))\n",
    "        self.rewards = np.repeat(0, number_of_choices)\n",
    "        self.taken = np.repeat(0, number_of_choices) \n",
    "        \n",
    "class Agent(ABC):\n",
    " \n",
    "    def __init__(self, number_of_choices):\n",
    "        self.reward = 0\n",
    "        self.State = State(number_of_choices)\n",
    "        self.reward_sum = 0\n",
    "      \n",
    "\n",
    "    @abstractmethod\n",
    "    def take_action(self):\n",
    "        pass\n",
    "    \n",
    "    \n",
    "    \n",
    "class Greedy(Agent):\n",
    "    def __init__(self, epsilon, number_of_choices):\n",
    "        self.epsilon = epsilon\n",
    "        super().__init__(number_of_choices)\n",
    "        \n",
    "    \n",
    "    def take_action(self):\n",
    "        explore = np.random.choice([False, True], 1, p = [1 - self.epsilon, self.epsilon])[0]\n",
    "        choice = np.argmax(self.State.rewards)\n",
    "        if explore == True:\n",
    "            exploration_choices = np.delete(self.State.choices, choice)\n",
    "            choice = random.choice(exploration_choices)\n",
    "        return(choice)\n",
    "    \n",
    "    def get_reward(bandit):\n",
    "        self.reward =  bandit.return_reward()\n",
    "        self.reward_sum += self.reward\n",
    "        \n",
    "    def update_state(self):\n",
    "        pass\n",
    "    \n",
    "    def display_state(self):\n",
    "        print(\"choices: \",self.State.choices) \n",
    "        print(\"rewards estimations: \",self.State.rewards) \n",
    "        print(\"number of picks: \", self.State.taken) \n",
    "    \n",
    "\n",
    "class Bandit:\n",
    "    def __init__(self):\n",
    "        self.__mean = random.randint(0,9)\n",
    "        self.__sd = random.randint(0,9)\n",
    "        \n",
    "    def return_reward(self):\n",
    "        return random.gauss(self.__mean, self.__sd)\n",
    "        \n",
    "    "
   ]
  },
  {
   "cell_type": "code",
   "execution_count": 147,
   "metadata": {},
   "outputs": [],
   "source": [
    "random.seed(27)\n",
    "n = 10\n",
    "steps = 2000\n",
    "\n",
    "\n",
    "\n",
    "bandits = list()\n",
    "for i in range(10):\n",
    "    bandits.append(Bandit())"
   ]
  },
  {
   "cell_type": "code",
   "execution_count": 148,
   "metadata": {},
   "outputs": [],
   "source": [
    "greedy = Greedy(epsilon = 0.1, number_of_choices = 9)"
   ]
  },
  {
   "cell_type": "code",
   "execution_count": 150,
   "metadata": {},
   "outputs": [
    {
     "name": "stdout",
     "output_type": "stream",
     "text": [
      "choices:  [0 1 2 3 4 5 6 7 8]\n",
      "rewards estimations:  [0 0 0 0 0 0 0 0 0]\n",
      "number of picks:  [0 0 0 0 0 0 0 0 0]\n"
     ]
    },
    {
     "ename": "TypeError",
     "evalue": "get_reward() takes 1 positional argument but 2 were given",
     "output_type": "error",
     "traceback": [
      "\u001b[1;31m---------------------------------------------------------------------------\u001b[0m",
      "\u001b[1;31mTypeError\u001b[0m                                 Traceback (most recent call last)",
      "\u001b[1;32m<ipython-input-150-e53eda43a68d>\u001b[0m in \u001b[0;36m<module>\u001b[1;34m\u001b[0m\n\u001b[0;32m      3\u001b[0m     \u001b[0mchoice\u001b[0m \u001b[1;33m=\u001b[0m \u001b[0mgreedy\u001b[0m\u001b[1;33m.\u001b[0m\u001b[0mtake_action\u001b[0m\u001b[1;33m(\u001b[0m\u001b[1;33m)\u001b[0m\u001b[1;33m\u001b[0m\u001b[1;33m\u001b[0m\u001b[0m\n\u001b[0;32m      4\u001b[0m     \u001b[0mchoice\u001b[0m\u001b[1;33m\u001b[0m\u001b[1;33m\u001b[0m\u001b[0m\n\u001b[1;32m----> 5\u001b[1;33m     \u001b[0mgreedy\u001b[0m\u001b[1;33m.\u001b[0m\u001b[0mget_reward\u001b[0m\u001b[1;33m(\u001b[0m\u001b[0mbandits\u001b[0m\u001b[1;33m[\u001b[0m\u001b[0mchoice\u001b[0m\u001b[1;33m]\u001b[0m\u001b[1;33m)\u001b[0m\u001b[1;33m\u001b[0m\u001b[1;33m\u001b[0m\u001b[0m\n\u001b[0m\u001b[0;32m      6\u001b[0m     \u001b[0mgreedy\u001b[0m\u001b[1;33m.\u001b[0m\u001b[0mreward\u001b[0m\u001b[1;33m\u001b[0m\u001b[1;33m\u001b[0m\u001b[0m\n",
      "\u001b[1;31mTypeError\u001b[0m: get_reward() takes 1 positional argument but 2 were given"
     ]
    }
   ],
   "source": [
    "greedy.display_state()\n",
    "for i in range(1):\n",
    "    choice = greedy.take_action()\n",
    "    choice\n",
    "    greedy.get_reward(bandits[choice])\n",
    "    greedy.reward"
   ]
  },
  {
   "cell_type": "code",
   "execution_count": 7,
   "metadata": {},
   "outputs": [],
   "source": [
    "choice_reward_df\n",
    "choice_reward_df['choice'] = choice_reward_df['choice'].astype('category')"
   ]
  },
  {
   "cell_type": "code",
   "execution_count": 11,
   "metadata": {},
   "outputs": [
    {
     "data": {
      "text/plain": [
       "array([0.00443185, 0.00530579, 0.00632878, 0.00752133, 0.00890582,\n",
       "       0.0105065 , 0.01234943, 0.01446241, 0.01687483, 0.01961746,\n",
       "       0.02272223, 0.02622189, 0.03014961, 0.03453857, 0.03942137,\n",
       "       0.0448295 , 0.05079264, 0.05733801, 0.06448952, 0.07226707,\n",
       "       0.08068571, 0.08975477, 0.09947714, 0.10984842, 0.12085626,\n",
       "       0.13247967, 0.14468855, 0.15744319, 0.17069405, 0.18438164,\n",
       "       0.1984366 , 0.21277993, 0.22732351, 0.24197072, 0.2566174 ,\n",
       "       0.27115285, 0.28546117, 0.29942268, 0.31291556, 0.3258175 ,\n",
       "       0.33800759, 0.34936814, 0.35978656, 0.36915722, 0.37738323,\n",
       "       0.38437808, 0.3900672 , 0.39438923, 0.39729716, 0.39875915,\n",
       "       0.39875915, 0.39729716, 0.39438923, 0.3900672 , 0.38437808,\n",
       "       0.37738323, 0.36915722, 0.35978656, 0.34936814, 0.33800759,\n",
       "       0.3258175 , 0.31291556, 0.29942268, 0.28546117, 0.27115285,\n",
       "       0.2566174 , 0.24197072, 0.22732351, 0.21277993, 0.1984366 ,\n",
       "       0.18438164, 0.17069405, 0.15744319, 0.14468855, 0.13247967,\n",
       "       0.12085626, 0.10984842, 0.09947714, 0.08975477, 0.08068571,\n",
       "       0.07226707, 0.06448952, 0.05733801, 0.05079264, 0.0448295 ,\n",
       "       0.03942137, 0.03453857, 0.03014961, 0.02622189, 0.02272223,\n",
       "       0.01961746, 0.01687483, 0.01446241, 0.01234943, 0.0105065 ,\n",
       "       0.00890582, 0.00752133, 0.00632878, 0.00530579, 0.00443185])"
      ]
     },
     "execution_count": 11,
     "metadata": {},
     "output_type": "execute_result"
    }
   ],
   "source": [
    "mu = 0\n",
    "sigma = 1\n",
    "x = np.linspace(mu - 3*sigma, mu + 3*sigma, 100)\n",
    "y = stats.norm.pdf(x, mu, sigma)\n",
    "y"
   ]
  },
  {
   "cell_type": "code",
   "execution_count": 99,
   "metadata": {},
   "outputs": [
    {
     "data": {
      "text/plain": [
       "4"
      ]
     },
     "execution_count": 99,
     "metadata": {},
     "output_type": "execute_result"
    }
   ],
   "source": [
    "random.choice(np.array([2,3,4]))"
   ]
  },
  {
   "cell_type": "code",
   "execution_count": 141,
   "metadata": {},
   "outputs": [
    {
     "data": {
      "text/plain": [
       "2.843913705364525"
      ]
     },
     "execution_count": 141,
     "metadata": {},
     "output_type": "execute_result"
    }
   ],
   "source": [
    " bandits[random.choice(np.array([2,3,4]))].return_reward()"
   ]
  },
  {
   "cell_type": "code",
   "execution_count": 155,
   "metadata": {},
   "outputs": [
    {
     "data": {
      "text/plain": [
       "6.7365679410544"
      ]
     },
     "execution_count": 155,
     "metadata": {},
     "output_type": "execute_result"
    }
   ],
   "source": [
    "bandits[1].return_reward()"
   ]
  },
  {
   "cell_type": "code",
   "execution_count": null,
   "metadata": {},
   "outputs": [],
   "source": []
  }
 ],
 "metadata": {
  "kernelspec": {
   "display_name": "Python 3",
   "language": "python",
   "name": "python3"
  },
  "language_info": {
   "codemirror_mode": {
    "name": "ipython",
    "version": 3
   },
   "file_extension": ".py",
   "mimetype": "text/x-python",
   "name": "python",
   "nbconvert_exporter": "python",
   "pygments_lexer": "ipython3",
   "version": "3.7.4"
  }
 },
 "nbformat": 4,
 "nbformat_minor": 2
}
